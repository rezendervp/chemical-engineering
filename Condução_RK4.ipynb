{
  "nbformat": 4,
  "nbformat_minor": 0,
  "metadata": {
    "colab": {
      "provenance": [],
      "authorship_tag": "ABX9TyMyDkm5XjjpfQRoRvuQsPaj",
      "include_colab_link": true
    },
    "kernelspec": {
      "name": "python3",
      "display_name": "Python 3"
    },
    "language_info": {
      "name": "python"
    }
  },
  "cells": [
    {
      "cell_type": "markdown",
      "metadata": {
        "id": "view-in-github",
        "colab_type": "text"
      },
      "source": [
        "<a href=\"https://colab.research.google.com/github/rezendervp/chemical-engineering/blob/main/Condu%C3%A7%C3%A3o_RK4.ipynb\" target=\"_parent\"><img src=\"https://colab.research.google.com/assets/colab-badge.svg\" alt=\"Open In Colab\"/></a>"
      ]
    },
    {
      "cell_type": "code",
      "execution_count": null,
      "metadata": {
        "colab": {
          "resources": {
            "http://localhost:8080/conducao_calor_rk4.mp4": {
              "data": "CjwhRE9DVFlQRSBodG1sPgo8aHRtbCBsYW5nPWVuPgogIDxtZXRhIGNoYXJzZXQ9dXRmLTg+CiAgPG1ldGEgbmFtZT12aWV3cG9ydCBjb250ZW50PSJpbml0aWFsLXNjYWxlPTEsIG1pbmltdW0tc2NhbGU9MSwgd2lkdGg9ZGV2aWNlLXdpZHRoIj4KICA8dGl0bGU+RXJyb3IgNDA0IChOb3QgRm91bmQpISExPC90aXRsZT4KICA8c3R5bGU+CiAgICAqe21hcmdpbjowO3BhZGRpbmc6MH1odG1sLGNvZGV7Zm9udDoxNXB4LzIycHggYXJpYWwsc2Fucy1zZXJpZn1odG1se2JhY2tncm91bmQ6I2ZmZjtjb2xvcjojMjIyO3BhZGRpbmc6MTVweH1ib2R5e21hcmdpbjo3JSBhdXRvIDA7bWF4LXdpZHRoOjM5MHB4O21pbi1oZWlnaHQ6MTgwcHg7cGFkZGluZzozMHB4IDAgMTVweH0qID4gYm9keXtiYWNrZ3JvdW5kOnVybCgvL3d3dy5nb29nbGUuY29tL2ltYWdlcy9lcnJvcnMvcm9ib3QucG5nKSAxMDAlIDVweCBuby1yZXBlYXQ7cGFkZGluZy1yaWdodDoyMDVweH1we21hcmdpbjoxMXB4IDAgMjJweDtvdmVyZmxvdzpoaWRkZW59aW5ze2NvbG9yOiM3Nzc7dGV4dC1kZWNvcmF0aW9uOm5vbmV9YSBpbWd7Ym9yZGVyOjB9QG1lZGlhIHNjcmVlbiBhbmQgKG1heC13aWR0aDo3NzJweCl7Ym9keXtiYWNrZ3JvdW5kOm5vbmU7bWFyZ2luLXRvcDowO21heC13aWR0aDpub25lO3BhZGRpbmctcmlnaHQ6MH19I2xvZ297YmFja2dyb3VuZDp1cmwoLy93d3cuZ29vZ2xlLmNvbS9pbWFnZXMvbG9nb3MvZXJyb3JwYWdlL2Vycm9yX2xvZ28tMTUweDU0LnBuZykgbm8tcmVwZWF0O21hcmdpbi1sZWZ0Oi01cHh9QG1lZGlhIG9ubHkgc2NyZWVuIGFuZCAobWluLXJlc29sdXRpb246MTkyZHBpKXsjbG9nb3tiYWNrZ3JvdW5kOnVybCgvL3d3dy5nb29nbGUuY29tL2ltYWdlcy9sb2dvcy9lcnJvcnBhZ2UvZXJyb3JfbG9nby0xNTB4NTQtMngucG5nKSBuby1yZXBlYXQgMCUgMCUvMTAwJSAxMDAlOy1tb3otYm9yZGVyLWltYWdlOnVybCgvL3d3dy5nb29nbGUuY29tL2ltYWdlcy9sb2dvcy9lcnJvcnBhZ2UvZXJyb3JfbG9nby0xNTB4NTQtMngucG5nKSAwfX1AbWVkaWEgb25seSBzY3JlZW4gYW5kICgtd2Via2l0LW1pbi1kZXZpY2UtcGl4ZWwtcmF0aW86Mil7I2xvZ297YmFja2dyb3VuZDp1cmwoLy93d3cuZ29vZ2xlLmNvbS9pbWFnZXMvbG9nb3MvZXJyb3JwYWdlL2Vycm9yX2xvZ28tMTUweDU0LTJ4LnBuZykgbm8tcmVwZWF0Oy13ZWJraXQtYmFja2dyb3VuZC1zaXplOjEwMCUgMTAwJX19I2xvZ297ZGlzcGxheTppbmxpbmUtYmxvY2s7aGVpZ2h0OjU0cHg7d2lkdGg6MTUwcHh9CiAgPC9zdHlsZT4KICA8YSBocmVmPS8vd3d3Lmdvb2dsZS5jb20vPjxzcGFuIGlkPWxvZ28gYXJpYS1sYWJlbD1Hb29nbGU+PC9zcGFuPjwvYT4KICA8cD48Yj40MDQuPC9iPiA8aW5zPlRoYXTigJlzIGFuIGVycm9yLjwvaW5zPgogIDxwPiAgPGlucz5UaGF04oCZcyBhbGwgd2Uga25vdy48L2lucz4K",
              "ok": false,
              "headers": [
                [
                  "content-length",
                  "1449"
                ],
                [
                  "content-type",
                  "text/html; charset=utf-8"
                ]
              ],
              "status": 404,
              "status_text": ""
            }
          },
          "base_uri": "https://localhost:8080/",
          "height": 627
        },
        "id": "leZvcNz9zo37",
        "outputId": "b96d8b8c-853b-4f04-ec6d-1516290a83c9"
      },
      "outputs": [
        {
          "output_type": "stream",
          "name": "stdout",
          "text": [
            "Tempo de execução: 0.01 segundos\n"
          ]
        },
        {
          "output_type": "execute_result",
          "data": {
            "text/plain": [
              "<IPython.core.display.Video object>"
            ],
            "text/html": [
              "<video src=\"conducao_calor_rk4.mp4\" controls  >\n",
              "      Your browser does not support the <code>video</code> element.\n",
              "    </video>"
            ]
          },
          "metadata": {},
          "execution_count": 3
        },
        {
          "output_type": "display_data",
          "data": {
            "text/plain": [
              "<Figure size 640x480 with 1 Axes>"
            ],
            "image/png": "[encoded data removed]"
          },
          "metadata": {}
        }
      ],
      "source": [
        "\n",
        "\"\"\"Condução unidimensinal transiente com fonte\n",
        "\n",
        "   =================================================================================\n",
        "\n",
        "   Formulação IMPLÍCITA no tempo (theta = 1)\n",
        "   Discretização no tempo Runge-Kutta de 4a ordem  dT/dt= f(T,x)\n",
        "   Neste caso, há montagem de matriz, as equações são resolvidas  a cada\n",
        "   passo de tempo\n",
        "   MAS A QUANTO MAIOR A ORDEM, MAIS SUJEITO A INSTABILIDADES\n",
        "   (TESTE MODIFICANDO O PASOS DE TEMPO E O REFINAMENTO DE MALHA)\n",
        "   Discretização no espaço CDS  (2a ordem)\n",
        "\n",
        "   =================================================================================\n",
        "\n",
        "   Introdução à Fluidodinâmica Computacional\n",
        "\n",
        "   Prof. Dr. Ricardo V. P. Rezende  ©2024\n",
        "\n",
        "   =================================================================================\n",
        "\n",
        "   OBS.: a solução é rápida, mas a montagem do vídeo é mais demorada,\n",
        "   verifique o tmepo  de computação mostrado - ele considera somente a\n",
        "   a montagem e inversão da matriz\n",
        "\"\"\"\n",
        "\n",
        "\n",
        "\n",
        "import numpy as np\n",
        "import matplotlib.pyplot as plt\n",
        "import matplotlib.animation as animation\n",
        "import time\n",
        "\n",
        "# Parâmetros do problema\n",
        "L = 1.0        # Comprimento do domínio\n",
        "T = 10        # Tempo total\n",
        "alpha = 0.01   # Difusividade térmica\n",
        "Nx = 31        # Número de pontos no espaço\n",
        "Nt = 200      # Número de passos de tempo\n",
        "dx = L / (Nx - 1)  # Espaçamento espacial\n",
        "dt = T / Nt    # Passo de tempo\n",
        "\n",
        "\n",
        "# Marca o tempo de início\n",
        "start_time = time.time()\n",
        "\n",
        "# Condição inicial\n",
        "u0 = np.zeros(Nx)\n",
        "u0[int(0.4 * Nx):int(0.6 * Nx)] = 1  # Pico inicial\n",
        "\n",
        "# Discretização espacial\n",
        "def dudx2(u, dx):\n",
        "    dudx2 = np.zeros_like(u)\n",
        "    dudx2[1:-1] = (u[2:] - 2*u[1:-1] + u[:-2]) / dx**2\n",
        "    return dudx2\n",
        "\n",
        "# Função f para a equação de condução de calor\n",
        "def f(u, alpha, dx):\n",
        "    return alpha * dudx2(u, dx)\n",
        "\n",
        "# Método de Runge-Kutta de 4ª ordem\n",
        "def rk4_step(u, dt, alpha, dx):\n",
        "    k1 = f(u, alpha, dx)\n",
        "    k2 = f(u + dt/2 * k1, alpha, dx)\n",
        "    k3 = f(u + dt/2 * k2, alpha, dx)\n",
        "    k4 = f(u + dt * k3, alpha, dx)\n",
        "    return u + dt/6 * (k1 + 2*k2 + 2*k3 + k4)\n",
        "\n",
        "# Solução no tempo\n",
        "u = u0.copy()\n",
        "u_all = [u0.copy()]  # Para armazenar todas as soluções ao longo do tempo\n",
        "\n",
        "for n in range(1, Nt + 1):\n",
        "    u = rk4_step(u, dt, alpha, dx)\n",
        "    u[0] = 0  # Condição de contorno\n",
        "    u[-1] = 0  # Condição de contorno\n",
        "    u_all.append(u.copy())\n",
        "\n",
        "# Marca o tempo de fim\n",
        "end_time = time.time()\n",
        "\n",
        "# Imprime o tempo de execução\n",
        "print(\"Tempo de execução: {:.2f} segundos\".format(end_time - start_time))\n",
        "\n",
        "# Configuração da animação\n",
        "fig, ax = plt.subplots()\n",
        "x = np.linspace(0, L, Nx)\n",
        "line, = ax.plot(x, u0, label='Temperatura')\n",
        "ax.set_xlim(0, L)\n",
        "ax.set_ylim(0, 1.2)\n",
        "ax.set_xlabel('x')\n",
        "ax.set_ylabel('u')\n",
        "ax.legend()\n",
        "ax.grid(True)\n",
        "\n",
        "def animate(i):\n",
        "    line.set_ydata(u_all[i])\n",
        "    return line,\n",
        "\n",
        "ani = animation.FuncAnimation(fig, animate, frames=Nt+1, interval=50, blit=True)\n",
        "\n",
        "# Salvando a animação em um arquivo MP4\n",
        "ani.save('conducao_calor_rk4.mp4', writer='ffmpeg')\n",
        "\n",
        "# Exibindo o vídeo no Google Colab\n",
        "from IPython.display import Video\n",
        "Video(\"conducao_calor_rk4.mp4\")\n"
      ]
    }
  ]
}