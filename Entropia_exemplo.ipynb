{
  "nbformat": 4,
  "nbformat_minor": 0,
  "metadata": {
    "colab": {
      "provenance": [],
      "authorship_tag": "ABX9TyNRvbPFtGLTCq5+p2MlRndE",
      "include_colab_link": true
    },
    "kernelspec": {
      "name": "python3",
      "display_name": "Python 3"
    },
    "language_info": {
      "name": "python"
    }
  },
  "cells": [
    {
      "cell_type": "markdown",
      "metadata": {
        "id": "view-in-github",
        "colab_type": "text"
      },
      "source": [
        "<a href=\"https://colab.research.google.com/github/rezendervp/chemical-engineering/blob/main/Entropia_exemplo.ipynb\" target=\"_parent\"><img src=\"https://colab.research.google.com/assets/colab-badge.svg\" alt=\"Open In Colab\"/></a>"
      ]
    },
    {
      "cell_type": "markdown",
      "source": [
        "# **Entropia total de sistema com transferência de calor**\n",
        "\n",
        "  Demonstração do aumento da entropia durante um processo de transferência de calor entre dois recipientes em contato e isolados do ambiente.\n",
        "\n",
        "  A transferência de calor ocorre devido à diferença de temperatura $\\Delta T$ entre os reservatórios, e ela ocorre até a temperatura de equilíbrio,  $T_{eq}$ - que é intermediária à máxima e à minima temperatura: $T_{B} < T_{eq} < T_{A}$. \n",
        "  Neste ponto, temos a maior variação possível de entropia para este sistema. "
      ],
      "metadata": {
        "id": "-1wGXojZKgyu"
      }
    },
    {
      "cell_type": "markdown",
      "source": [
        "O cálculo começa com a importação da biblioteca numpy necessária a criação de vetores (arrays) para armazenamento das variáveis, bem como das funções matemáticas como $log()$, por exemplo."
      ],
      "metadata": {
        "id": "y_onWefUxIr8"
      }
    },
    {
      "cell_type": "code",
      "source": [
        "#IMportanção da numpy\n",
        "\n",
        "import numpy as np\n",
        "\n",
        "#constante universal dos gases em S.I\n",
        "R = 8.314 #J/k.mol (cte dos gases)"
      ],
      "metadata": {
        "id": "vTm9u7P-Kklv"
      },
      "execution_count": 28,
      "outputs": []
    },
    {
      "cell_type": "code",
      "source": [
        "# condição inicial em A\n",
        "\n",
        "TAo = 92.0 + 273.15 #K\n",
        "VA = 1.0 #m³\n",
        "nA = 50.0 #mol"
      ],
      "metadata": {
        "id": "nEwRqYF1Lae4"
      },
      "execution_count": 29,
      "outputs": []
    },
    {
      "cell_type": "code",
      "source": [
        "# condição inicial em B\n",
        "\n",
        "TBo = 28.0 + 273.15 #K\n",
        "VB = 3.0 #m³\n",
        "nB = 300.0 #mol"
      ],
      "metadata": {
        "id": "VZm3I1UkMAY9"
      },
      "execution_count": 30,
      "outputs": []
    },
    {
      "cell_type": "markdown",
      "source": [
        "Entropias inicials calculadas a partir das entropias de referência: \n",
        "\n",
        "$S_{A}^{o} = S_{A}^{ref} + n_{A} C_{v}^{A} \\log (\\frac{T_{A}^{o}}{T_{A}^{ref}})$\n",
        "\n",
        " e\n",
        "\n",
        "$S_{B}^{o} = S_{B}^{ref} + n_{B} C_{v}^{B} \\log (\\frac{T_{B}^{o}}{T_{B}^{ref}})$\n",
        "\n",
        "As entropias de referência são necessárias para podermos inicar os cálculos. A sua escolha é arbitrária. Normalmente é feita em uma condição padrão, como $25°C$ e $1 atm$. Assim as condições inicias são calculadas em relação a ela. Seja qual for a referência, o $\\Delta S$ será o mesmo, pois todos os cálculos são em relação a este referencial. \n"
      ],
      "metadata": {
        "id": "ZoTD9QNhmobQ"
      }
    },
    {
      "cell_type": "code",
      "source": [
        "# Entropias Iniciais So\n",
        "\n",
        "#Sistema A\n",
        "Cv_N2 = 21.0 #J/mol.K\n",
        "Sref_N2 = 0.0 #J/K\n",
        "Tref_N2 = 25.0 +273.15 #K\n",
        "SAo = Sref_N2 + nA*Cv_N2*np.log(TAo/Tref_N2)\n",
        "\n",
        "#Sistema B\n",
        "Cv_CO2 = 29.0 #J/mol.K\n",
        "Sref_CO2 = 0.0 #J/K\n",
        "Tref_CO2 = 25.0 +273.15 #K\n",
        "SBo = Sref_CO2 + nB*Cv_CO2*np.log(TBo/Tref_CO2)"
      ],
      "metadata": {
        "id": "j1CtOD60MJic"
      },
      "execution_count": 31,
      "outputs": []
    },
    {
      "cell_type": "code",
      "source": [
        "print(SAo,SBo)"
      ],
      "metadata": {
        "colab": {
          "base_uri": "https://localhost:8080/"
        },
        "id": "Rqv9qjBUMKG1",
        "outputId": "fe1e9bd7-d9f8-4992-971d-68a6878032ed"
      },
      "execution_count": 32,
      "outputs": [
        {
          "output_type": "stream",
          "name": "stdout",
          "text": [
            "212.84708812185414 87.10234610935153\n"
          ]
        }
      ]
    },
    {
      "cell_type": "code",
      "source": [
        "#Entropia total inicial A + B\n",
        "Stotal_o = SAo + SBo\n",
        "Stotal_o"
      ],
      "metadata": {
        "colab": {
          "base_uri": "https://localhost:8080/"
        },
        "id": "ztJP95BENhLc",
        "outputId": "06ae1790-64ea-4a54-f95a-13b099a6a3cb"
      },
      "execution_count": 33,
      "outputs": [
        {
          "output_type": "execute_result",
          "data": {
            "text/plain": [
              "299.94943423120566"
            ]
          },
          "metadata": {},
          "execution_count": 33
        }
      ]
    },
    {
      "cell_type": "markdown",
      "source": [
        "Para se fazer o gráfico não é necessário resolver as equações para uma situação específica. Basta observar o c0mportamento de $T$ e $S$  com a variação de $Q$. Assim, criam-se uma série de valores de calor $Q$ e, a partir \n",
        "disto, as demais variáveis:"
      ],
      "metadata": {
        "id": "XhMMWF2zyQHD"
      }
    },
    {
      "cell_type": "code",
      "source": [
        "# Cria vetor de Calor para A \n",
        "\n",
        "# lembre-se A está esfriando ( caso fosse Q B, a faixa seria positiva - ele está aquecendo)\n",
        "\n",
        "QA = np.linspace(0,-100000, 100)\n",
        "QA"
      ],
      "metadata": {
        "colab": {
          "base_uri": "https://localhost:8080/"
        },
        "id": "DYZOhbUwOKdc",
        "outputId": "6a82aac2-946e-4c71-8974-842533ef31b4"
      },
      "execution_count": 34,
      "outputs": [
        {
          "output_type": "execute_result",
          "data": {
            "text/plain": [
              "array([      0.        ,   -1010.1010101 ,   -2020.2020202 ,\n",
              "         -3030.3030303 ,   -4040.4040404 ,   -5050.50505051,\n",
              "         -6060.60606061,   -7070.70707071,   -8080.80808081,\n",
              "         -9090.90909091,  -10101.01010101,  -11111.11111111,\n",
              "        -12121.21212121,  -13131.31313131,  -14141.41414141,\n",
              "        -15151.51515152,  -16161.61616162,  -17171.71717172,\n",
              "        -18181.81818182,  -19191.91919192,  -20202.02020202,\n",
              "        -21212.12121212,  -22222.22222222,  -23232.32323232,\n",
              "        -24242.42424242,  -25252.52525253,  -26262.62626263,\n",
              "        -27272.72727273,  -28282.82828283,  -29292.92929293,\n",
              "        -30303.03030303,  -31313.13131313,  -32323.23232323,\n",
              "        -33333.33333333,  -34343.43434343,  -35353.53535354,\n",
              "        -36363.63636364,  -37373.73737374,  -38383.83838384,\n",
              "        -39393.93939394,  -40404.04040404,  -41414.14141414,\n",
              "        -42424.24242424,  -43434.34343434,  -44444.44444444,\n",
              "        -45454.54545455,  -46464.64646465,  -47474.74747475,\n",
              "        -48484.84848485,  -49494.94949495,  -50505.05050505,\n",
              "        -51515.15151515,  -52525.25252525,  -53535.35353535,\n",
              "        -54545.45454545,  -55555.55555556,  -56565.65656566,\n",
              "        -57575.75757576,  -58585.85858586,  -59595.95959596,\n",
              "        -60606.06060606,  -61616.16161616,  -62626.26262626,\n",
              "        -63636.36363636,  -64646.46464646,  -65656.56565657,\n",
              "        -66666.66666667,  -67676.76767677,  -68686.86868687,\n",
              "        -69696.96969697,  -70707.07070707,  -71717.17171717,\n",
              "        -72727.27272727,  -73737.37373737,  -74747.47474747,\n",
              "        -75757.57575758,  -76767.67676768,  -77777.77777778,\n",
              "        -78787.87878788,  -79797.97979798,  -80808.08080808,\n",
              "        -81818.18181818,  -82828.28282828,  -83838.38383838,\n",
              "        -84848.48484848,  -85858.58585859,  -86868.68686869,\n",
              "        -87878.78787879,  -88888.88888889,  -89898.98989899,\n",
              "        -90909.09090909,  -91919.19191919,  -92929.29292929,\n",
              "        -93939.39393939,  -94949.49494949,  -95959.5959596 ,\n",
              "        -96969.6969697 ,  -97979.7979798 ,  -98989.8989899 ,\n",
              "       -100000.        ])"
            ]
          },
          "metadata": {},
          "execution_count": 34
        }
      ]
    },
    {
      "cell_type": "code",
      "source": [
        "#criar demais vetores zerados\n",
        "\n",
        "QB = np.zeros(100)\n",
        "TA = np.zeros(100)\n",
        "TB = np.zeros(100)\n",
        "SA = np.zeros(100)\n",
        "SB = np.zeros(100)\n",
        "Stotal =np.zeros(100)\n"
      ],
      "metadata": {
        "id": "66wYlWUIOvXC"
      },
      "execution_count": 35,
      "outputs": []
    },
    {
      "cell_type": "markdown",
      "source": [
        "# **Equações de trabalho**\n",
        "\n",
        "Para cada posição (ou valor do vetor) QA, um calor é usado para calcular T e S:\n",
        "\n",
        "*   Temperatura de A:\n",
        "\n",
        "  $T_{A} = T_{A}^{o} + \\frac{Q_{A}}{n_{A} C_{v}^{A}}$\n",
        "\n",
        "*   Entropia de A\n",
        "\n",
        "  $S_{A} = S_{A}^{o} + n_{A} C_{v}^{A} \\log (\\frac{T_{A}}{T_{A}^{o}})$\n",
        "\n",
        "*   Calor de B:\n",
        "  $ Q_{B} = -Q_{A}$\n",
        "\n",
        "*   Temperatura de B:\n",
        "\n",
        "  $T_{B} = T_{B}^{o} + \\frac{Q_{B}}{n_{B} C_{v}^{B}}$\n",
        "\n",
        "\n",
        "*   Entropia de B\n",
        "\n",
        "  $S_{A} = S_{A}^{o} + n_{A} C_{v}^{A} \\log (\\frac{T_{A}}{T_{A}^{o}})$\n",
        "\n",
        "\n",
        "*  Entropia total do sistema A + B:\n",
        "\n",
        "  $S_{total} = S_{A} + S_{B}$\n",
        "\n",
        "\n",
        "Estes valores são então passados para o vetor de $T$ e $S$ de cada sistema e entropia total. \n",
        "\n",
        "\n"
      ],
      "metadata": {
        "id": "zG6buEQNyu0j"
      }
    },
    {
      "cell_type": "code",
      "source": [
        "#looping de cálculo\n",
        "\n",
        "for i in range (0,100):\n",
        "  TA[i] = TAo + QA[i]/(nA*Cv_N2)\n",
        "  SA[i] = SAo +nA*Cv_N2*np.log(TA[i]/TAo)\n",
        "\n",
        "  QB[i] = -QA[i]\n",
        "\n",
        "  TB[i] = TBo + QB[i]/(nB*Cv_CO2)\n",
        "  SB[i] = SBo + nB*Cv_CO2*np.log(TB[i]/TBo)\n",
        "\n",
        "  Stotal[i] = SA[i] + SB[i]"
      ],
      "metadata": {
        "id": "dZm7lQrQPg6z"
      },
      "execution_count": 36,
      "outputs": []
    },
    {
      "cell_type": "markdown",
      "source": [
        "Com todos os vetores, pode-se plotar um gráfico $xy$ para cada conjunto de variáveis que se queira:"
      ],
      "metadata": {
        "id": "WIFxLiIt0kKF"
      }
    },
    {
      "cell_type": "code",
      "source": [
        "# Gráficos\n",
        "\n",
        "# importação da pyplot da biblioteca matplotlib\n",
        "\n",
        "from matplotlib import pyplot as plt"
      ],
      "metadata": {
        "id": "2vuzCSW2Q8L_"
      },
      "execution_count": 37,
      "outputs": []
    },
    {
      "cell_type": "code",
      "source": [
        "#figura 1\n",
        "\n",
        "plt.plot(QA/1e3,Stotal,'r')\n",
        "plt.xlabel('$Q_{A}$ [kJ]')\n",
        "plt.ylabel('$S_{total}$ [kJ]')\n",
        "plt.grid(True)\n"
      ],
      "metadata": {
        "colab": {
          "base_uri": "https://localhost:8080/",
          "height": 453
        },
        "id": "w4fr3J0ZRV7c",
        "outputId": "5c30db20-54ff-477d-b9dc-4d0d1b9af919"
      },
      "execution_count": 59,
      "outputs": [
        {
          "output_type": "display_data",
          "data": {
            "text/plain": [
              "<Figure size 640x480 with 1 Axes>"
            ],
            "image/png": "[encoded data removed]"
          },
          "metadata": {}
        }
      ]
    },
    {
      "cell_type": "markdown",
      "source": [
        "Na figura acima, temos a variação de Entropia com o calor trocado ou perdido por A. Note que inicicialemte $Q_{A}=0$, pois $A$ e $B$ são colocados em contado. À medida que o equilíbrio térmico se estabelece, a entropia total do sistema aumenta e atinge seu máximo próximo a aproximadamente $-60kJ$. Ou seja, o processo segue da direita para esquerda."
      ],
      "metadata": {
        "id": "XquPu4lc004o"
      }
    },
    {
      "cell_type": "code",
      "source": [
        "#figura 2\n",
        "\n",
        "plt.plot(QA/1e3,TA, label = '$T_{A}$ [K]')\n",
        "plt.plot(QA/1e3,TB,label = '$T_{B}$ [K]')\n",
        "plt.xlabel('$Q_{A}$ [kJ]')\n",
        "plt.ylabel('$T_{A}$ & $T_{A}$ [K]')\n",
        "plt.legend()\n",
        "plt.grid(True)"
      ],
      "metadata": {
        "colab": {
          "base_uri": "https://localhost:8080/",
          "height": 453
        },
        "id": "-U7kpVIbSYpp",
        "outputId": "05f81591-b612-4f10-f4b1-40edb7eeb82a"
      },
      "execution_count": 56,
      "outputs": [
        {
          "output_type": "display_data",
          "data": {
            "text/plain": [
              "<Figure size 640x480 with 1 Axes>"
            ],
            "image/png": "[encoded data removed]"
          },
          "metadata": {}
        }
      ]
    },
    {
      "cell_type": "markdown",
      "source": [
        "Na figura 2 vemos as curvas de aquecimento e resfriamento dos reservatórios $A$ e $B$. A temperatura de equilibrio ocorre perto de $Q_{A} =-60kJ$ de calor perdido por $A$. Como se pode ver, $A$ está mais quente e $B$ mais frio e o processo se dá da direita para a esquerda até $T_{eq} =308K$. \n",
        "\n",
        "  No gráfico há também o processo inverso: no caso de $B$ estar inicalmente mais quente que $A$, e assim o processo se daria da direita para a esquerda até o equilíbrio. \n",
        "\n",
        "  Por isto o gráfico de $S$ continua para antes e depois do seu máximo. Ele é válido para quando co calor vaide de $A→B$, ou de $B→A$. "
      ],
      "metadata": {
        "id": "t7wROphj1k5F"
      }
    },
    {
      "cell_type": "markdown",
      "source": [
        "A partir da conservação da energia pode-se determinar a temperatra de equilíbrio, assim, resolvendo para o equilíbrio:\n",
        "\n",
        "$T_{eq} = \\frac{T_{A}^{o}⋅(n_{A} C_{v}^{A}) + T_{B}^{o}⋅(n_{B} C_{v}^{B})}{(n_{A} C_{v}^{A})+ (n_{B} C_{v}^{B})}$\n",
        "\n",
        "Assim,\n"
      ],
      "metadata": {
        "id": "HBAJKBl07PDd"
      }
    },
    {
      "cell_type": "code",
      "source": [
        "Teq = (TAo*(nA*Cv_N2)+ TBo*(nB*Cv_CO2))/((nA*Cv_N2) + (nB*Cv_CO2))\n",
        "Teq-273.15  #oC"
      ],
      "metadata": {
        "colab": {
          "base_uri": "https://localhost:8080/"
        },
        "id": "9ocsz1d1T3b9",
        "outputId": "2eeb5533-4fdc-4d83-b72a-a2b62e1658f5"
      },
      "execution_count": 54,
      "outputs": [
        {
          "output_type": "execute_result",
          "data": {
            "text/plain": [
              "34.892307692307725"
            ]
          },
          "metadata": {},
          "execution_count": 54
        }
      ]
    },
    {
      "cell_type": "markdown",
      "source": [
        "Para ilustrar como o máximo de entropia se dá na temperatura de equilíbrio, calcula-se o $\\Delta T$. O Python cira autmaticamente um vetor quando uma operaão entre eles é efetuada sem declarar. É uma forma inteligente de evitar codificação desnecessária e erros de compilação. "
      ],
      "metadata": {
        "id": "kanObXGo8agh"
      }
    },
    {
      "cell_type": "code",
      "source": [
        "DT = (TA-TB) \n",
        "DT"
      ],
      "metadata": {
        "colab": {
          "base_uri": "https://localhost:8080/"
        },
        "id": "0hFWXsBZUUMV",
        "outputId": "bfee5dce-7e9d-44fb-d051-0bf5f8014e2c"
      },
      "execution_count": 55,
      "outputs": [
        {
          "output_type": "execute_result",
          "data": {
            "text/plain": [
              "array([ 64.        ,  62.92189547,  61.84379095,  60.76568642,\n",
              "        59.68758189,  58.60947737,  57.53137284,  56.45326832,\n",
              "        55.37516379,  54.29705926,  53.21895474,  52.14085021,\n",
              "        51.06274568,  49.98464116,  48.90653663,  47.8284321 ,\n",
              "        46.75032758,  45.67222305,  44.59411853,  43.516014  ,\n",
              "        42.43790947,  41.35980495,  40.28170042,  39.20359589,\n",
              "        38.12549137,  37.04738684,  35.96928231,  34.89117779,\n",
              "        33.81307326,  32.73496873,  31.65686421,  30.57875968,\n",
              "        29.50065516,  28.42255063,  27.3444461 ,  26.26634158,\n",
              "        25.18823705,  24.11013252,  23.032028  ,  21.95392347,\n",
              "        20.87581894,  19.79771442,  18.71960989,  17.64150537,\n",
              "        16.56340084,  15.48529631,  14.40719179,  13.32908726,\n",
              "        12.25098273,  11.17287821,  10.09477368,   9.01666915,\n",
              "         7.93856463,   6.8604601 ,   5.78235558,   4.70425105,\n",
              "         3.62614652,   2.548042  ,   1.46993747,   0.39183294,\n",
              "        -0.68627158,  -1.76437611,  -2.84248064,  -3.92058516,\n",
              "        -4.99868969,  -6.07679421,  -7.15489874,  -8.23300327,\n",
              "        -9.31110779, -10.38921232, -11.46731685, -12.54542137,\n",
              "       -13.6235259 , -14.70163043, -15.77973495, -16.85783948,\n",
              "       -17.935944  , -19.01404853, -20.09215306, -21.17025758,\n",
              "       -22.24836211, -23.32646664, -24.40457116, -25.48267569,\n",
              "       -26.56078022, -27.63888474, -28.71698927, -29.7950938 ,\n",
              "       -30.87319832, -31.95130285, -33.02940737, -34.1075119 ,\n",
              "       -35.18561643, -36.26372095, -37.34182548, -38.41993001,\n",
              "       -39.49803453, -40.57613906, -41.65424359, -42.73234811])"
            ]
          },
          "metadata": {},
          "execution_count": 55
        }
      ]
    },
    {
      "cell_type": "code",
      "source": [
        "  # figura 3\n",
        "  \n",
        "plt.plot(Stotal,DT)\n",
        "plt.xlabel('$S_{total}$ [J/K]')\n",
        "plt.ylabel('$\\Delta T$ [K] ')\n",
        "plt.grid(True)"
      ],
      "metadata": {
        "colab": {
          "base_uri": "https://localhost:8080/",
          "height": 453
        },
        "id": "KiWd75bRluWf",
        "outputId": "3fb863f5-5e80-4d8a-f9ab-0180d73912c6"
      },
      "execution_count": 60,
      "outputs": [
        {
          "output_type": "display_data",
          "data": {
            "text/plain": [
              "<Figure size 640x480 with 1 Axes>"
            ],
            "image/png": "[encoded data removed]"
          },
          "metadata": {}
        }
      ]
    },
    {
      "cell_type": "markdown",
      "source": [
        "Na figura acima vemos que no máximo de entropia  $\\Delta T = 0 K$\n",
        "\n",
        "O sistema ficará neste estado indefinidamente até que uma força motriz externa  (calor ou trabalho) aja sobre ele. \n",
        "\n",
        "Este exemplo ilustra como a 1ª e a 2ª Leis estão relacionadas, além da conservação da energia, pois para este sistema $\\Delta E =0$, uma vez que ele está isolado das vizinhanças. \n",
        "\n",
        "A diferença de temperaturas é a força motriz que faz com que a energia flua na forma de calor de A para B, e este processo segue até que umaa temperatra de equilíbrio seja atingida - que é nos é familiar. Mas neste ponto a entropia é máxima (o que não é óbvio apenas se deixando observar o processo) e a energia está homogeneamente distribuida nos dois compartimentos. \n",
        "\n",
        "\n",
        "\n",
        "\n",
        "\n",
        "Copyright ©2023 Prof. Ricardo Vicente de Paula Rezende"
      ],
      "metadata": {
        "id": "8sGBxf-L9IHt"
      }
    }
  ]
}