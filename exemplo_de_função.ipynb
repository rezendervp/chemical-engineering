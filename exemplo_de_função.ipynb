{
  "nbformat": 4,
  "nbformat_minor": 0,
  "metadata": {
    "colab": {
      "provenance": [],
      "authorship_tag": "ABX9TyOyuaWiV1EnX9Vaz9+Jv8nZ",
      "include_colab_link": true
    },
    "kernelspec": {
      "name": "python3",
      "display_name": "Python 3"
    },
    "language_info": {
      "name": "python"
    }
  },
  "cells": [
    {
      "cell_type": "markdown",
      "metadata": {
        "id": "view-in-github",
        "colab_type": "text"
      },
      "source": [
        "<a href=\"https://colab.research.google.com/github/rezendervp/chemical-engineering/blob/main/exemplo_de_fun%C3%A7%C3%A3o.ipynb\" target=\"_parent\"><img src=\"https://colab.research.google.com/assets/colab-badge.svg\" alt=\"Open In Colab\"/></a>"
      ]
    },
    {
      "cell_type": "code",
      "execution_count": null,
      "metadata": {
        "colab": {
          "base_uri": "https://localhost:8080/"
        },
        "id": "OA3KJybDP-UA",
        "outputId": "ff98f17e-17a4-4c77-8de0-b497bee31250"
      },
      "outputs": [
        {
          "output_type": "execute_result",
          "data": {
            "text/plain": [
              "(36, 1.44)"
            ]
          },
          "metadata": {},
          "execution_count": 9
        }
      ],
      "source": [
        "# exemplo de função x²\n",
        "# definbindo a função:\n",
        "def square(x):\n",
        "    return x**2\n",
        "\n",
        "  #a função termina com o seu retorn , no caso ela retorna x²\n",
        "\n",
        "# uso da função:\n",
        "result = square(1.2)\n",
        "\n",
        "# saída de result:\n",
        "new_result = square(2)*square(3)\n",
        "new_result,result"
      ]
    },
    {
      "cell_type": "code",
      "source": [],
      "metadata": {
        "id": "byp90g5HQu1N"
      },
      "execution_count": null,
      "outputs": []
    }
  ]
}